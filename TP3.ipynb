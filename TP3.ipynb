{
 "cells": [
  {
   "cell_type": "code",
   "execution_count": 11,
   "metadata": {},
   "outputs": [],
   "source": [
    "%matplotlib inline\n",
    "# OpenCV-Python utiliza NumPy para el manejo de imágenes\n",
    "import numpy as np\n",
    "# cv2 es el módulo python para acceder a OpenCV \n",
    "import cv2 as cv\n",
    "# Usamos las poderosas herramientas de graficación de matplotlib para mostrar imágenes, perfiles, histogramas, etc\n",
    "import matplotlib.pyplot as plt"
   ]
  },
  {
   "cell_type": "code",
   "execution_count": 12,
   "metadata": {},
   "outputs": [],
   "source": [
    "def find_middle_point(coordinates):\n",
    "    coordinates = coordinates[0]\n",
    "    middle_points=[]\n",
    "    while bool(coordinates.any()):\n",
    "        search=coordinates[0]\n",
    "        # print(coordinates)\n",
    "        coordinates = np.delete(coordinates, 0, axis=0)\n",
    "        objective=search[1]\n",
    "        data=[]\n",
    "        for i in coordinates[:,1]:\n",
    "            i = int(i)\n",
    "            i= abs(i-objective)\n",
    "            data.append(i)\n",
    "        # print(data, data.index(min(data)))\n",
    "        middle_points.append((search[0:2]+coordinates[data.index(min(data))][0:2])/2)\n",
    "        coordinates = np.delete(coordinates, data.index(min(data)), axis=0)\n",
    "        # print(middle_points)\n",
    "    return middle_points\n"
   ]
  },
  {
   "cell_type": "code",
   "execution_count": 13,
   "metadata": {},
   "outputs": [
    {
     "name": "stdout",
     "output_type": "stream",
     "text": [
      "302.5 186.0\n",
      "299.5 415.5\n",
      "298.5 509.0\n",
      "302.0 78.5\n",
      "293.0 295.0\n"
     ]
    }
   ],
   "source": [
    "# Leemos la imagen\n",
    "#=================\n",
    "img = cv.imread('TP3/eyes.jpg')\n",
    "#img = cv.imread('eyes.jpg')\n",
    "gray = cv.cvtColor(img,cv.COLOR_BGR2GRAY)\n",
    "\n",
    "# Suavizamos la imagen\n",
    "#=====================\n",
    "gray = cv.medianBlur(gray,5)\n",
    "\n",
    "# cv.imshow('tapitas',gray)\n",
    "cv.waitKey(0)\n",
    "cv.destroyAllWindows()\n",
    "\n",
    "\n",
    "# Obtenemos los círculos por la transformada de Hough\n",
    "# (imagen en grises, método, flag de resolución del acumulador, dist mín entre centros de círculos\n",
    "# umbral alto de Canny, umbral del acumulador, radio_min, radio_max)\n",
    "#===================================================================\n",
    "img_out = img.copy()\n",
    "# circles = cv.HoughCircles(gray,cv.HOUGH_GRADIENT,1,minDist=10,param1=120,param2=30,minRadius=25,maxRadius=42)\n",
    "circles = cv.HoughCircles(gray,cv.HOUGH_GRADIENT,1,minDist=10,param1=120,param2=23,minRadius=27,maxRadius=42)\n",
    "\n",
    "\n",
    "points=find_middle_point(circles)\n",
    "\n",
    "for i in points:\n",
    "    print(i[0],i[1])\n",
    "    # Dibujamos el centro del círculo\n",
    "    cv.circle(img_out,(int(i[0]),int(i[1])),2,(0,0,255),3)\n",
    "\n",
    "\n",
    "circles = np.uint16(np.around(circles))\n",
    "for i in circles[0,:]:\n",
    "    # Dibujamos el círculo externo\n",
    "    cv.circle(img_out,(i[0],i[1]),i[2],(0,255,0),2)\n",
    "    # Dibujamos el centro del círculo\n",
    "    cv.circle(img_out,(i[0],i[1]),2,(0,0,255),3)\n",
    "cv.imshow('detected circles',img_out)\n",
    "cv.waitKey(0)\n",
    "cv.destroyAllWindows()\n"
   ]
  },
  {
   "cell_type": "code",
   "execution_count": 14,
   "metadata": {},
   "outputs": [
    {
     "name": "stdout",
     "output_type": "stream",
     "text": [
      "[[[464 516  12]\n",
      "  [454  80  12]\n",
      "  [132 506  13]\n",
      "  [150  80  11]\n",
      "  [462 420  11]\n",
      "  [136 414  12]\n",
      "  [460 180  11]\n",
      "  [144 188  10]\n",
      "  [446 294  11]\n",
      "  [138 294  11]]]\n",
      "298.0 511.0\n",
      "302.0 80.0\n",
      "299.0 417.0\n",
      "302.0 184.0\n",
      "292.0 294.0\n"
     ]
    }
   ],
   "source": [
    "img_out = img.copy()\n",
    "# circles = cv.HoughCircles(gray,cv.HOUGH_GRADIENT,1,minDist=10,param1=120,param2=30,minRadius=25,maxRadius=42)\n",
    "circles = cv.HoughCircles(gray,cv.HOUGH_GRADIENT,1,minDist=10,param1=140,param2=17,minRadius=10,maxRadius=17)\n",
    "\n",
    "circles = np.uint16(np.around(circles))\n",
    "print(circles)\n",
    "\n",
    "points=find_middle_point(circles)\n",
    "\n",
    "for i in points:\n",
    "    print(i[0],i[1])\n",
    "    # Dibujamos el centro del círculo\n",
    "    cv.circle(img_out,(int(i[0]),int(i[1])),2,(0,0,255),3)\n",
    "\n",
    "for i in circles[0,:]:\n",
    "    # Dibujamos el círculo externo\n",
    "    cv.circle(img_out,(i[0],i[1]),i[2],(0,255,0),2)\n",
    "    # Dibujamos el centro del círculo\n",
    "    cv.circle(img_out,(i[0],i[1]),2,(0,0,255),3)\n",
    "cv.imshow('detected circles',img_out)\n",
    "cv.waitKey(0)\n",
    "cv.destroyAllWindows()"
   ]
  }
 ],
 "metadata": {
  "interpreter": {
   "hash": "7598d2ada798bf6966bc75680702b1e05fbe17c344021015c5942f44a828edfd"
  },
  "kernelspec": {
   "display_name": "Python 3.8.2 64-bit",
   "language": "python",
   "name": "python3"
  },
  "language_info": {
   "codemirror_mode": {
    "name": "ipython",
    "version": 3
   },
   "file_extension": ".py",
   "mimetype": "text/x-python",
   "name": "python",
   "nbconvert_exporter": "python",
   "pygments_lexer": "ipython3",
   "version": "3.8.2"
  },
  "orig_nbformat": 4
 },
 "nbformat": 4,
 "nbformat_minor": 2
}
